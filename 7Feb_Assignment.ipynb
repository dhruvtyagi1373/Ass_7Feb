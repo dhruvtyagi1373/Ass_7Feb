{
 "cells": [
  {
   "cell_type": "markdown",
   "id": "1e9f70d5-b60a-4106-8b91-51d9090d3dec",
   "metadata": {},
   "source": [
    "### Q1. You are writing code for a company. The requirement of the company is that you create a python function that will check whether the password entered by the user is correct or not. The function should take the password as input and return the string “Valid Password” if the entered password follows the below-given password guidelines else it should return “Invalid Password”.\n",
    "### Note: \n",
    "    1. The Password should contain at least two uppercase letters and at least two lowercase letters. \n",
    "    2. The Password should contain at least a number and three special characters. \n",
    "    3. The length of the password should be 10 characters long."
   ]
  },
  {
   "cell_type": "code",
   "execution_count": 6,
   "id": "968e049a-eee6-4e1f-a146-e3db1e231db1",
   "metadata": {},
   "outputs": [],
   "source": [
    "def check_pass(password):\n",
    "    upper_ctr, lower_ctr, number_ctr, special_ctr = 0, 0, 0, 0\n",
    "    for i in range(len(password)):\n",
    "        if password[i] >= 'A' and password[i] <= 'Z': upper_ctr += 1\n",
    "        elif password[i] >= 'a' and password[i] <= 'z': lower_ctr += 1\n",
    "        elif password[i] >= '0' and password[i] <= '9': number_ctr += 1\n",
    "        else: special_ctr += 1\n",
    "    if upper_ctr>=2 and lower_ctr>=2 and number_ctr>=1 and special_ctr>=3 and len(password)==10:\n",
    "        return \"Valid Password\"\n",
    "    else:\n",
    "        return \"Invalid Password\""
   ]
  },
  {
   "cell_type": "code",
   "execution_count": 7,
   "id": "91cb38c4-da37-4719-8a24-3fc5b90e324b",
   "metadata": {},
   "outputs": [
    {
     "data": {
      "text/plain": [
       "'Valid Password'"
      ]
     },
     "execution_count": 7,
     "metadata": {},
     "output_type": "execute_result"
    }
   ],
   "source": [
    "check_pass(\"DHruv@#$20\")"
   ]
  },
  {
   "cell_type": "markdown",
   "id": "3f238355-4f2f-4f52-9cbf-a98dadf99754",
   "metadata": {
    "tags": []
   },
   "source": [
    "### Q2. Solve the below-given questions using at least one of the following:\n",
    "1. Lambda function\n",
    "2. Filter function\n",
    "3. Map function\n",
    "4. List Comprehension"
   ]
  },
  {
   "cell_type": "markdown",
   "id": "75fa42c1-ff27-42e9-9afd-e4f0e881afda",
   "metadata": {},
   "source": [
    "#### a. Check if the string starts with a particular letter"
   ]
  },
  {
   "cell_type": "code",
   "execution_count": 6,
   "id": "cee03845-252b-413d-81c8-52d14c076619",
   "metadata": {},
   "outputs": [
    {
     "name": "stdout",
     "output_type": "stream",
     "text": [
      "True\n"
     ]
    }
   ],
   "source": [
    "func = lambda x:x[0].isalpha()\n",
    "print(func(\"abc123\"))"
   ]
  },
  {
   "cell_type": "markdown",
   "id": "bd90285d-1550-4b2f-863c-66e53347d488",
   "metadata": {},
   "source": [
    "#### b. Check if the string is numeric"
   ]
  },
  {
   "cell_type": "code",
   "execution_count": 5,
   "id": "d3c9c007-e9ad-4978-8c44-0c517a8214da",
   "metadata": {},
   "outputs": [
    {
     "name": "stdout",
     "output_type": "stream",
     "text": [
      "True\n"
     ]
    }
   ],
   "source": [
    "a = lambda x : x.isnumeric()\n",
    "print(a(\"12353\"))"
   ]
  },
  {
   "cell_type": "markdown",
   "id": "0ce1fd5b-96ec-4041-a044-408d3cb0913d",
   "metadata": {},
   "source": [
    "#### c. Sort a list of tuples having fruit names and their quantity. [(\"mango\",99),(\"orange\",80), (\"grapes\", 1000)]"
   ]
  },
  {
   "cell_type": "code",
   "execution_count": 8,
   "id": "4a42c59b-b370-4a2f-849e-c969d7f23df9",
   "metadata": {},
   "outputs": [
    {
     "name": "stdout",
     "output_type": "stream",
     "text": [
      "[('orange', 80), ('mango', 99), ('grapes', 1000)]\n"
     ]
    }
   ],
   "source": [
    "lst = [(\"mango\",99),(\"orange\",80),(\"grapes\",1000)]\n",
    "lst.sort(key=lambda x:x[1])\n",
    "print(lst)"
   ]
  },
  {
   "cell_type": "markdown",
   "id": "6a6c5ec9-bca6-4810-a4fa-9cec1c7897b3",
   "metadata": {},
   "source": [
    "#### d. Find the squares of numbers from 1 to 10"
   ]
  },
  {
   "cell_type": "code",
   "execution_count": 6,
   "id": "0aada3aa-5938-469c-9362-083ef745b8ce",
   "metadata": {},
   "outputs": [
    {
     "name": "stdout",
     "output_type": "stream",
     "text": [
      "[1, 4, 9, 16, 25, 36, 49, 64, 81, 100]\n"
     ]
    }
   ],
   "source": [
    "square = [x*x for x in range(11) if x>0]\n",
    "print(square)"
   ]
  },
  {
   "cell_type": "markdown",
   "id": "211662b4-19ae-4406-a224-79c83664c790",
   "metadata": {},
   "source": [
    "#### d. Find the cube root of numbers from 1 to 10"
   ]
  },
  {
   "cell_type": "code",
   "execution_count": 7,
   "id": "7ea322f7-107f-43bb-8d0f-264cc18125f6",
   "metadata": {},
   "outputs": [
    {
     "name": "stdout",
     "output_type": "stream",
     "text": [
      "[1, 8, 27, 64, 125, 216, 343, 512, 729, 1000]\n"
     ]
    }
   ],
   "source": [
    "cubes = [x*x*x for x in range(11) if x>0]\n",
    "print(cubes)"
   ]
  },
  {
   "cell_type": "markdown",
   "id": "37cfdf9a-3160-4056-9e5f-69af82a09a6d",
   "metadata": {},
   "source": [
    "#### d. Check if a given number is even"
   ]
  },
  {
   "cell_type": "code",
   "execution_count": 11,
   "id": "a8dee1c6-6df4-482d-af90-4b7d7f21214a",
   "metadata": {},
   "outputs": [
    {
     "data": {
      "text/plain": [
       "False"
      ]
     },
     "execution_count": 11,
     "metadata": {},
     "output_type": "execute_result"
    }
   ],
   "source": [
    "a = lambda x : x%2==0\n",
    "a(5)"
   ]
  },
  {
   "cell_type": "markdown",
   "id": "59f14137-86a4-4478-b4b6-199a8c8d1aaf",
   "metadata": {},
   "source": [
    "#### e. Filter odd numbers from the given list.[1,2,3,4,5,6,7,8,9,10]"
   ]
  },
  {
   "cell_type": "code",
   "execution_count": 13,
   "id": "f866ef19-13b7-4774-9902-4e199f5b5c00",
   "metadata": {},
   "outputs": [
    {
     "name": "stdout",
     "output_type": "stream",
     "text": [
      "1\n",
      "3\n",
      "5\n",
      "7\n",
      "9\n"
     ]
    }
   ],
   "source": [
    "def check_odd(seq):\n",
    "    if seq%2!=0:\n",
    "        return True\n",
    "    else:\n",
    "        return False\n",
    "    \n",
    "lst1 = [1,2,3,4,5,6,7,8,9,10]\n",
    "filtered = filter(check_odd,lst1)\n",
    "\n",
    "for i in filtered:\n",
    "    print(i)"
   ]
  },
  {
   "cell_type": "markdown",
   "id": "b90ca7db-bdb3-4e22-aa92-76e4ddda9143",
   "metadata": {},
   "source": [
    "#### f. Sort a list of integers into positive and negative integers lists.[1,2,3,4,5,6,-1,-2,-3,-4,-5,0]"
   ]
  },
  {
   "cell_type": "code",
   "execution_count": 4,
   "id": "c607e354-b2f2-4ec1-ab75-5de85eb2a3a2",
   "metadata": {},
   "outputs": [
    {
     "name": "stdout",
     "output_type": "stream",
     "text": [
      "[1, 2, 3, 4, 5, 6, 0]\n",
      "[-1, -2, -3, -4, -5]\n"
     ]
    }
   ],
   "source": [
    "l = [1,2,3,4,5,6,-1,-2,-3,-4,-5,0]\n",
    "lst_pos = [x for x in l if x>=0]\n",
    "lst_neg = [x for x in l if x<0]\n",
    "print(lst_pos)\n",
    "print(lst_neg)"
   ]
  },
  {
   "cell_type": "code",
   "execution_count": null,
   "id": "0a8ef14c-9d6b-4682-b75c-9af9d90a02ff",
   "metadata": {},
   "outputs": [],
   "source": []
  },
  {
   "cell_type": "code",
   "execution_count": null,
   "id": "a0e0e08d-813c-403c-9218-8228c535b0b7",
   "metadata": {},
   "outputs": [],
   "source": []
  },
  {
   "cell_type": "code",
   "execution_count": null,
   "id": "8a64af60-6ea5-4e51-aec6-e49bc635a2ee",
   "metadata": {},
   "outputs": [],
   "source": []
  }
 ],
 "metadata": {
  "kernelspec": {
   "display_name": "Python 3 (ipykernel)",
   "language": "python",
   "name": "python3"
  },
  "language_info": {
   "codemirror_mode": {
    "name": "ipython",
    "version": 3
   },
   "file_extension": ".py",
   "mimetype": "text/x-python",
   "name": "python",
   "nbconvert_exporter": "python",
   "pygments_lexer": "ipython3",
   "version": "3.10.8"
  }
 },
 "nbformat": 4,
 "nbformat_minor": 5
}
